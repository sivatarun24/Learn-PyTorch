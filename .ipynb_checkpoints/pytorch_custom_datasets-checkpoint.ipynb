{
 "cells": [
  {
   "cell_type": "code",
   "execution_count": 1,
   "id": "725ccc6a-683a-4129-b97e-c40db2a0cb4e",
   "metadata": {},
   "outputs": [],
   "source": [
    "# import all necessary things"
   ]
  },
  {
   "cell_type": "code",
   "execution_count": 2,
   "id": "23901cb8-d809-41e4-917c-c6e6b01d2766",
   "metadata": {},
   "outputs": [],
   "source": [
    "# get the device"
   ]
  },
  {
   "cell_type": "code",
   "execution_count": 3,
   "id": "ca78a78d-19ae-4de7-bdd7-21690921b5b8",
   "metadata": {},
   "outputs": [],
   "source": [
    "# get pizza stack sushi dataset"
   ]
  },
  {
   "cell_type": "code",
   "execution_count": null,
   "id": "8babc99f-8ff9-4846-a061-a4861b2c9b25",
   "metadata": {},
   "outputs": [],
   "source": []
  }
 ],
 "metadata": {
  "kernelspec": {
   "display_name": "Python 3 (ipykernel)",
   "language": "python",
   "name": "python3"
  },
  "language_info": {
   "codemirror_mode": {
    "name": "ipython",
    "version": 3
   },
   "file_extension": ".py",
   "mimetype": "text/x-python",
   "name": "python",
   "nbconvert_exporter": "python",
   "pygments_lexer": "ipython3",
   "version": "3.9.5"
  }
 },
 "nbformat": 4,
 "nbformat_minor": 5
}
