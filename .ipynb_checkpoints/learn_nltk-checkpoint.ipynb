{
 "cells": [
  {
   "cell_type": "code",
   "execution_count": 13,
   "id": "66eeb1d2-8e33-4528-bf48-99dfd4038834",
   "metadata": {},
   "outputs": [],
   "source": [
    "import os\n",
    "import nltk\n",
    "# nltk.download('stopwords')\n",
    "import nltk.corpus"
   ]
  },
  {
   "cell_type": "code",
   "execution_count": 14,
   "id": "6d429681-9bff-4c25-9bb7-54d7efa235ed",
   "metadata": {},
   "outputs": [
    {
     "data": {
      "text/plain": [
       "['stopwords', 'stopwords.zip']"
      ]
     },
     "execution_count": 14,
     "metadata": {},
     "output_type": "execute_result"
    }
   ],
   "source": [
    "os.listdir(nltk.data.find(\"corpora\"))"
   ]
  },
  {
   "cell_type": "code",
   "execution_count": null,
   "id": "4be5a110-5d4f-432c-a1f9-16e5a4626ba4",
   "metadata": {},
   "outputs": [],
   "source": [
    "nltk.download()"
   ]
  },
  {
   "cell_type": "code",
   "execution_count": null,
   "id": "0b502baa-a746-4a1d-a9fc-4b031509c84c",
   "metadata": {},
   "outputs": [],
   "source": [
    "pip install --upgrade certifi"
   ]
  },
  {
   "cell_type": "code",
   "execution_count": null,
   "id": "9e6bedc3-0bbf-4656-ab7f-347fc10b3fe0",
   "metadata": {},
   "outputs": [],
   "source": [
    "pip install --upgrade nltk"
   ]
  },
  {
   "cell_type": "code",
   "execution_count": null,
   "id": "2078bcbc-f6ac-4686-a2f0-0e5d44f4b850",
   "metadata": {},
   "outputs": [],
   "source": [
    "import nltk\n",
    "import ssl\n",
    "import certifi\n",
    "\n",
    "ssl._create_default_https_context = ssl.create_default_context\n",
    "ssl._create_default_https_context().load_verify_locations(certifi.where())\n",
    "nltk.download()"
   ]
  },
  {
   "cell_type": "code",
   "execution_count": null,
   "id": "5901e26c-ca2c-482d-93fa-261e9e3e0994",
   "metadata": {},
   "outputs": [],
   "source": [
    "# alretnative download by disabilting ssl verification\n",
    "\n",
    "import ssl\n",
    "ssl._create_default_https_context = ssl._create_unverified_context\n",
    "\n",
    "import nltk\n",
    "nltk.download()"
   ]
  }
 ],
 "metadata": {
  "kernelspec": {
   "display_name": "Python 3 (ipykernel)",
   "language": "python",
   "name": "python3"
  },
  "language_info": {
   "codemirror_mode": {
    "name": "ipython",
    "version": 3
   },
   "file_extension": ".py",
   "mimetype": "text/x-python",
   "name": "python",
   "nbconvert_exporter": "python",
   "pygments_lexer": "ipython3",
   "version": "3.9.5"
  }
 },
 "nbformat": 4,
 "nbformat_minor": 5
}
