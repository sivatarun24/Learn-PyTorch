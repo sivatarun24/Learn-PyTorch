{
 "cells": [
  {
   "cell_type": "code",
   "execution_count": 196,
   "id": "e35a2508-b660-4a2e-8dbe-3f1ecde1e4d3",
   "metadata": {},
   "outputs": [
    {
     "name": "stdout",
     "output_type": "stream",
     "text": [
      "2.5.1\n"
     ]
    }
   ],
   "source": [
    "import torch\n",
    "from torch import nn\n",
    "\n",
    "import torchvision\n",
    "from torchvision import datasets \n",
    "from torchvision.transforms import ToTensor\n",
    "\n",
    "import matplotlib.pyplot as plt\n",
    "\n",
    "print(torch.__version__)"
   ]
  },
  {
   "cell_type": "code",
   "execution_count": 197,
   "id": "836c5a24-f79d-4608-98a3-1a61089242a0",
   "metadata": {},
   "outputs": [
    {
     "data": {
      "text/plain": [
       "'mps'"
      ]
     },
     "execution_count": 197,
     "metadata": {},
     "output_type": "execute_result"
    }
   ],
   "source": [
    "device = \"mps\" if torch.backends.mps.is_available() else cpu\n",
    "device"
   ]
  },
  {
   "cell_type": "code",
   "execution_count": 198,
   "id": "0bac3a86-aa9f-4b0f-80ff-c507e7d005b5",
   "metadata": {},
   "outputs": [],
   "source": [
    "# get FashionMNIST dataset\n",
    "\n",
    "train_data = datasets.FashionMNIST(root=\"data\", train=True, download=True, transform=ToTensor(), target_transform=None)\n",
    "test_data = datasets.FashionMNIST(root=\"data\", train=False, download=True, transform=ToTensor())"
   ]
  },
  {
   "cell_type": "code",
   "execution_count": 199,
   "id": "2f9354c7-ca04-4a64-80e2-a6fafb305731",
   "metadata": {},
   "outputs": [
    {
     "data": {
      "text/plain": [
       "(Dataset FashionMNIST\n",
       "     Number of datapoints: 60000\n",
       "     Root location: data\n",
       "     Split: Train\n",
       "     StandardTransform\n",
       " Transform: ToTensor(),\n",
       " Dataset FashionMNIST\n",
       "     Number of datapoints: 10000\n",
       "     Root location: data\n",
       "     Split: Test\n",
       "     StandardTransform\n",
       " Transform: ToTensor())"
      ]
     },
     "execution_count": 199,
     "metadata": {},
     "output_type": "execute_result"
    }
   ],
   "source": [
    "train_data, test_data"
   ]
  },
  {
   "cell_type": "code",
   "execution_count": 200,
   "id": "a7b6d440-69ec-40ea-ab9c-970200d5c031",
   "metadata": {},
   "outputs": [
    {
     "data": {
      "text/plain": [
       "(tensor([[[0.0000, 0.0000, 0.0000, 0.0000, 0.0000, 0.0000, 0.0000, 0.0000,\n",
       "           0.0000, 0.0000, 0.0000, 0.0000, 0.0000, 0.0000, 0.0000, 0.0000,\n",
       "           0.0000, 0.0000, 0.0000, 0.0000, 0.0000, 0.0000, 0.0000, 0.0000,\n",
       "           0.0000, 0.0000, 0.0000, 0.0000],\n",
       "          [0.0000, 0.0000, 0.0000, 0.0000, 0.0000, 0.0000, 0.0000, 0.0000,\n",
       "           0.0000, 0.0000, 0.0000, 0.0000, 0.0000, 0.0000, 0.0000, 0.0000,\n",
       "           0.0000, 0.0000, 0.0000, 0.0000, 0.0000, 0.0000, 0.0000, 0.0000,\n",
       "           0.0000, 0.0000, 0.0000, 0.0000],\n",
       "          [0.0000, 0.0000, 0.0000, 0.0000, 0.0000, 0.0000, 0.0000, 0.0000,\n",
       "           0.0000, 0.0000, 0.0000, 0.0000, 0.0000, 0.0000, 0.0000, 0.0000,\n",
       "           0.0000, 0.0000, 0.0000, 0.0000, 0.0000, 0.0000, 0.0000, 0.0000,\n",
       "           0.0000, 0.0000, 0.0000, 0.0000],\n",
       "          [0.0000, 0.0000, 0.0000, 0.0000, 0.0000, 0.0000, 0.0000, 0.0000,\n",
       "           0.0000, 0.0000, 0.0000, 0.0000, 0.0039, 0.0000, 0.0000, 0.0510,\n",
       "           0.2863, 0.0000, 0.0000, 0.0039, 0.0157, 0.0000, 0.0000, 0.0000,\n",
       "           0.0000, 0.0039, 0.0039, 0.0000],\n",
       "          [0.0000, 0.0000, 0.0000, 0.0000, 0.0000, 0.0000, 0.0000, 0.0000,\n",
       "           0.0000, 0.0000, 0.0000, 0.0000, 0.0118, 0.0000, 0.1412, 0.5333,\n",
       "           0.4980, 0.2431, 0.2118, 0.0000, 0.0000, 0.0000, 0.0039, 0.0118,\n",
       "           0.0157, 0.0000, 0.0000, 0.0118],\n",
       "          [0.0000, 0.0000, 0.0000, 0.0000, 0.0000, 0.0000, 0.0000, 0.0000,\n",
       "           0.0000, 0.0000, 0.0000, 0.0000, 0.0235, 0.0000, 0.4000, 0.8000,\n",
       "           0.6902, 0.5255, 0.5647, 0.4824, 0.0902, 0.0000, 0.0000, 0.0000,\n",
       "           0.0000, 0.0471, 0.0392, 0.0000],\n",
       "          [0.0000, 0.0000, 0.0000, 0.0000, 0.0000, 0.0000, 0.0000, 0.0000,\n",
       "           0.0000, 0.0000, 0.0000, 0.0000, 0.0000, 0.0000, 0.6078, 0.9255,\n",
       "           0.8118, 0.6980, 0.4196, 0.6118, 0.6314, 0.4275, 0.2510, 0.0902,\n",
       "           0.3020, 0.5098, 0.2824, 0.0588],\n",
       "          [0.0000, 0.0000, 0.0000, 0.0000, 0.0000, 0.0000, 0.0000, 0.0000,\n",
       "           0.0000, 0.0000, 0.0000, 0.0039, 0.0000, 0.2706, 0.8118, 0.8745,\n",
       "           0.8549, 0.8471, 0.8471, 0.6392, 0.4980, 0.4745, 0.4784, 0.5725,\n",
       "           0.5529, 0.3451, 0.6745, 0.2588],\n",
       "          [0.0000, 0.0000, 0.0000, 0.0000, 0.0000, 0.0000, 0.0000, 0.0000,\n",
       "           0.0000, 0.0039, 0.0039, 0.0039, 0.0000, 0.7843, 0.9098, 0.9098,\n",
       "           0.9137, 0.8980, 0.8745, 0.8745, 0.8431, 0.8353, 0.6431, 0.4980,\n",
       "           0.4824, 0.7686, 0.8980, 0.0000],\n",
       "          [0.0000, 0.0000, 0.0000, 0.0000, 0.0000, 0.0000, 0.0000, 0.0000,\n",
       "           0.0000, 0.0000, 0.0000, 0.0000, 0.0000, 0.7176, 0.8824, 0.8471,\n",
       "           0.8745, 0.8941, 0.9216, 0.8902, 0.8784, 0.8706, 0.8784, 0.8667,\n",
       "           0.8745, 0.9608, 0.6784, 0.0000],\n",
       "          [0.0000, 0.0000, 0.0000, 0.0000, 0.0000, 0.0000, 0.0000, 0.0000,\n",
       "           0.0000, 0.0000, 0.0000, 0.0000, 0.0000, 0.7569, 0.8941, 0.8549,\n",
       "           0.8353, 0.7765, 0.7059, 0.8314, 0.8235, 0.8275, 0.8353, 0.8745,\n",
       "           0.8627, 0.9529, 0.7922, 0.0000],\n",
       "          [0.0000, 0.0000, 0.0000, 0.0000, 0.0000, 0.0000, 0.0000, 0.0000,\n",
       "           0.0000, 0.0039, 0.0118, 0.0000, 0.0471, 0.8588, 0.8627, 0.8314,\n",
       "           0.8549, 0.7529, 0.6627, 0.8902, 0.8157, 0.8549, 0.8784, 0.8314,\n",
       "           0.8863, 0.7725, 0.8196, 0.2039],\n",
       "          [0.0000, 0.0000, 0.0000, 0.0000, 0.0000, 0.0000, 0.0000, 0.0000,\n",
       "           0.0000, 0.0000, 0.0235, 0.0000, 0.3882, 0.9569, 0.8706, 0.8627,\n",
       "           0.8549, 0.7961, 0.7765, 0.8667, 0.8431, 0.8353, 0.8706, 0.8627,\n",
       "           0.9608, 0.4667, 0.6549, 0.2196],\n",
       "          [0.0000, 0.0000, 0.0000, 0.0000, 0.0000, 0.0000, 0.0000, 0.0000,\n",
       "           0.0000, 0.0157, 0.0000, 0.0000, 0.2157, 0.9255, 0.8941, 0.9020,\n",
       "           0.8941, 0.9412, 0.9098, 0.8353, 0.8549, 0.8745, 0.9176, 0.8510,\n",
       "           0.8510, 0.8196, 0.3608, 0.0000],\n",
       "          [0.0000, 0.0000, 0.0039, 0.0157, 0.0235, 0.0275, 0.0078, 0.0000,\n",
       "           0.0000, 0.0000, 0.0000, 0.0000, 0.9294, 0.8863, 0.8510, 0.8745,\n",
       "           0.8706, 0.8588, 0.8706, 0.8667, 0.8471, 0.8745, 0.8980, 0.8431,\n",
       "           0.8549, 1.0000, 0.3020, 0.0000],\n",
       "          [0.0000, 0.0118, 0.0000, 0.0000, 0.0000, 0.0000, 0.0000, 0.0000,\n",
       "           0.0000, 0.2431, 0.5686, 0.8000, 0.8941, 0.8118, 0.8353, 0.8667,\n",
       "           0.8549, 0.8157, 0.8275, 0.8549, 0.8784, 0.8745, 0.8588, 0.8431,\n",
       "           0.8784, 0.9569, 0.6235, 0.0000],\n",
       "          [0.0000, 0.0000, 0.0000, 0.0000, 0.0706, 0.1725, 0.3216, 0.4196,\n",
       "           0.7412, 0.8941, 0.8627, 0.8706, 0.8510, 0.8863, 0.7843, 0.8039,\n",
       "           0.8275, 0.9020, 0.8784, 0.9176, 0.6902, 0.7373, 0.9804, 0.9725,\n",
       "           0.9137, 0.9333, 0.8431, 0.0000],\n",
       "          [0.0000, 0.2235, 0.7333, 0.8157, 0.8784, 0.8667, 0.8784, 0.8157,\n",
       "           0.8000, 0.8392, 0.8157, 0.8196, 0.7843, 0.6235, 0.9608, 0.7569,\n",
       "           0.8078, 0.8745, 1.0000, 1.0000, 0.8667, 0.9176, 0.8667, 0.8275,\n",
       "           0.8627, 0.9098, 0.9647, 0.0000],\n",
       "          [0.0118, 0.7922, 0.8941, 0.8784, 0.8667, 0.8275, 0.8275, 0.8392,\n",
       "           0.8039, 0.8039, 0.8039, 0.8627, 0.9412, 0.3137, 0.5882, 1.0000,\n",
       "           0.8980, 0.8667, 0.7373, 0.6039, 0.7490, 0.8235, 0.8000, 0.8196,\n",
       "           0.8706, 0.8941, 0.8824, 0.0000],\n",
       "          [0.3843, 0.9137, 0.7765, 0.8235, 0.8706, 0.8980, 0.8980, 0.9176,\n",
       "           0.9765, 0.8627, 0.7608, 0.8431, 0.8510, 0.9451, 0.2549, 0.2863,\n",
       "           0.4157, 0.4588, 0.6588, 0.8588, 0.8667, 0.8431, 0.8510, 0.8745,\n",
       "           0.8745, 0.8784, 0.8980, 0.1137],\n",
       "          [0.2941, 0.8000, 0.8314, 0.8000, 0.7569, 0.8039, 0.8275, 0.8824,\n",
       "           0.8471, 0.7255, 0.7725, 0.8078, 0.7765, 0.8353, 0.9412, 0.7647,\n",
       "           0.8902, 0.9608, 0.9373, 0.8745, 0.8549, 0.8314, 0.8196, 0.8706,\n",
       "           0.8627, 0.8667, 0.9020, 0.2627],\n",
       "          [0.1882, 0.7961, 0.7176, 0.7608, 0.8353, 0.7725, 0.7255, 0.7451,\n",
       "           0.7608, 0.7529, 0.7922, 0.8392, 0.8588, 0.8667, 0.8627, 0.9255,\n",
       "           0.8824, 0.8471, 0.7804, 0.8078, 0.7294, 0.7098, 0.6941, 0.6745,\n",
       "           0.7098, 0.8039, 0.8078, 0.4510],\n",
       "          [0.0000, 0.4784, 0.8588, 0.7569, 0.7020, 0.6706, 0.7176, 0.7686,\n",
       "           0.8000, 0.8235, 0.8353, 0.8118, 0.8275, 0.8235, 0.7843, 0.7686,\n",
       "           0.7608, 0.7490, 0.7647, 0.7490, 0.7765, 0.7529, 0.6902, 0.6118,\n",
       "           0.6549, 0.6941, 0.8235, 0.3608],\n",
       "          [0.0000, 0.0000, 0.2902, 0.7412, 0.8314, 0.7490, 0.6863, 0.6745,\n",
       "           0.6863, 0.7098, 0.7255, 0.7373, 0.7412, 0.7373, 0.7569, 0.7765,\n",
       "           0.8000, 0.8196, 0.8235, 0.8235, 0.8275, 0.7373, 0.7373, 0.7608,\n",
       "           0.7529, 0.8471, 0.6667, 0.0000],\n",
       "          [0.0078, 0.0000, 0.0000, 0.0000, 0.2588, 0.7843, 0.8706, 0.9294,\n",
       "           0.9373, 0.9490, 0.9647, 0.9529, 0.9569, 0.8667, 0.8627, 0.7569,\n",
       "           0.7490, 0.7020, 0.7137, 0.7137, 0.7098, 0.6902, 0.6510, 0.6588,\n",
       "           0.3882, 0.2275, 0.0000, 0.0000],\n",
       "          [0.0000, 0.0000, 0.0000, 0.0000, 0.0000, 0.0000, 0.0000, 0.1569,\n",
       "           0.2392, 0.1725, 0.2824, 0.1608, 0.1373, 0.0000, 0.0000, 0.0000,\n",
       "           0.0000, 0.0000, 0.0000, 0.0000, 0.0000, 0.0000, 0.0000, 0.0000,\n",
       "           0.0000, 0.0000, 0.0000, 0.0000],\n",
       "          [0.0000, 0.0000, 0.0000, 0.0000, 0.0000, 0.0000, 0.0000, 0.0000,\n",
       "           0.0000, 0.0000, 0.0000, 0.0000, 0.0000, 0.0000, 0.0000, 0.0000,\n",
       "           0.0000, 0.0000, 0.0000, 0.0000, 0.0000, 0.0000, 0.0000, 0.0000,\n",
       "           0.0000, 0.0000, 0.0000, 0.0000],\n",
       "          [0.0000, 0.0000, 0.0000, 0.0000, 0.0000, 0.0000, 0.0000, 0.0000,\n",
       "           0.0000, 0.0000, 0.0000, 0.0000, 0.0000, 0.0000, 0.0000, 0.0000,\n",
       "           0.0000, 0.0000, 0.0000, 0.0000, 0.0000, 0.0000, 0.0000, 0.0000,\n",
       "           0.0000, 0.0000, 0.0000, 0.0000]]]),\n",
       " 9)"
      ]
     },
     "execution_count": 200,
     "metadata": {},
     "output_type": "execute_result"
    }
   ],
   "source": [
    "# train_data[0][0], train_data[0][1] # first row data divided into X, y\n",
    "\n",
    "image, label = train_data[0]\n",
    "image, label"
   ]
  },
  {
   "cell_type": "code",
   "execution_count": 201,
   "id": "826abc93-dea9-4761-9457-05406f6b831b",
   "metadata": {},
   "outputs": [
    {
     "data": {
      "text/plain": [
       "['T-shirt/top',\n",
       " 'Trouser',\n",
       " 'Pullover',\n",
       " 'Dress',\n",
       " 'Coat',\n",
       " 'Sandal',\n",
       " 'Shirt',\n",
       " 'Sneaker',\n",
       " 'Bag',\n",
       " 'Ankle boot']"
      ]
     },
     "execution_count": 201,
     "metadata": {},
     "output_type": "execute_result"
    }
   ],
   "source": [
    "class_names = test_data.classes\n",
    "class_names"
   ]
  },
  {
   "cell_type": "code",
   "execution_count": 202,
   "id": "3433e208-9804-4bd3-88c8-804ddfeb198f",
   "metadata": {},
   "outputs": [
    {
     "name": "stdout",
     "output_type": "stream",
     "text": [
      "torch.Size([1, 28, 28])\n"
     ]
    },
    {
     "data": {
      "text/plain": [
       "Text(0.5, 1.0, 'Ankle boot')"
      ]
     },
     "execution_count": 202,
     "metadata": {},
     "output_type": "execute_result"
    },
    {
     "data": {
      "image/png": "[encoded data removed]",
      "text/plain": [
       "<Figure size 640x480 with 1 Axes>"
      ]
     },
     "metadata": {},
     "output_type": "display_data"
    }
   ],
   "source": [
    "# plot data\n",
    "import matplotlib.pyplot as plt\n",
    "print(image.shape)\n",
    "plt.imshow(image.squeeze())\n",
    "plt.title(class_names[label])"
   ]
  },
  {
   "cell_type": "code",
   "execution_count": 203,
   "id": "56cc04b8-ac48-4bae-9ec0-c2841857fcd4",
   "metadata": {},
   "outputs": [
    {
     "data": {
      "text/plain": [
       "Text(0.5, 1.0, 'Ankle boot')"
      ]
     },
     "execution_count": 203,
     "metadata": {},
     "output_type": "execute_result"
    },
    {
     "data": {
      "image/png": "[encoded data removed]",
      "text/plain": [
       "<Figure size 640x480 with 1 Axes>"
      ]
     },
     "metadata": {},
     "output_type": "display_data"
    }
   ],
   "source": [
    "plt.imshow(image.squeeze(), cmap='grey')\n",
    "plt.title(class_names[label])"
   ]
  },
  {
   "cell_type": "code",
   "execution_count": 204,
   "id": "c0d85ba5-92f9-46b0-8f35-5d8194979cc0",
   "metadata": {},
   "outputs": [
    {
     "data": {
      "text/plain": [
       "(torch.Size([60000, 28, 28]),\n",
       " torch.Size([60000]),\n",
       " torch.Size([10000, 28, 28]),\n",
       " torch.Size([10000]))"
      ]
     },
     "execution_count": 204,
     "metadata": {},
     "output_type": "execute_result"
    }
   ],
   "source": [
    "X_train = train_data.data # 60000 -> 1 * 28 * 28\n",
    "y_train = train_data.targets # 60000 -> 1\n",
    "X_test = test_data.data # 60000 -> 1 * 28 * 28\n",
    "y_test = test_data.targets # 60000 -> 1\n",
    "\n",
    "# X_train = X_train.to(device)\n",
    "# y_train = y_train.to(device)\n",
    "# X_test = X_test.to(device)\n",
    "# y_test = y_test.to(device)\n",
    "\n",
    "X_train.shape, y_train.shape, X_test.shape, y_test.shape"
   ]
  },
  {
   "cell_type": "code",
   "execution_count": 205,
   "id": "2e27314a-f83b-4544-acf8-593ae6bbfab3",
   "metadata": {},
   "outputs": [
    {
     "data": {
      "text/plain": [
       "device(type='cpu')"
      ]
     },
     "execution_count": 205,
     "metadata": {},
     "output_type": "execute_result"
    }
   ],
   "source": [
    "y_test.device"
   ]
  },
  {
   "cell_type": "code",
   "execution_count": 206,
   "id": "e1debb4a-8451-4711-9220-84724e970423",
   "metadata": {},
   "outputs": [],
   "source": [
    "from torch.utils.data import DataLoader\n",
    "\n",
    "batch_size = 32\n",
    "\n",
    "train_dataloader = DataLoader(train_data, batch_size=batch_size, shuffle=True)\n",
    "test_dataloader = DataLoader(test_data, batch_size=batch_size, shuffle=False)"
   ]
  },
  {
   "cell_type": "code",
   "execution_count": 207,
   "id": "1ff463a7-8fc4-4bb7-9bd9-bdb6bdc2f49a",
   "metadata": {},
   "outputs": [
    {
     "data": {
      "text/plain": [
       "1875"
      ]
     },
     "execution_count": 207,
     "metadata": {},
     "output_type": "execute_result"
    }
   ],
   "source": [
    "# how many batches\n",
    "len(train_dataloader)"
   ]
  },
  {
   "cell_type": "code",
   "execution_count": 208,
   "id": "d5b35f8f-c006-460b-8f90-ca7cf2c44aa7",
   "metadata": {},
   "outputs": [
    {
     "data": {
      "text/plain": [
       "(torch.Size([32, 1, 28, 28]), torch.Size([32]))"
      ]
     },
     "execution_count": 208,
     "metadata": {},
     "output_type": "execute_result"
    }
   ],
   "source": [
    "train_features_batch, train_label_batch = next(iter(train_dataloader))\n",
    "train_features_batch.shape, train_label_batch.shape # only one batch 32 records"
   ]
  },
  {
   "cell_type": "code",
   "execution_count": 209,
   "id": "3e4b995c-3501-48ca-954d-c65b26d1eac7",
   "metadata": {},
   "outputs": [
    {
     "data": {
      "text/plain": [
       "(torch.Size([1, 28, 28]), torch.Size([1, 784]))"
      ]
     },
     "execution_count": 209,
     "metadata": {},
     "output_type": "execute_result"
    }
   ],
   "source": [
    "# implement a simple flatten model\n",
    "flatten_model = nn.Flatten()\n",
    "x = train_features_batch[0]\n",
    "output = flatten_model(x)\n",
    "\n",
    "x.shape, output.shape"
   ]
  },
  {
   "cell_type": "code",
   "execution_count": 210,
   "id": "c167c0eb-4aa2-4ebd-a061-fb7b11a58608",
   "metadata": {},
   "outputs": [
    {
     "name": "stdout",
     "output_type": "stream",
     "text": [
      "Helper function already exists. Skipping download\n"
     ]
    }
   ],
   "source": [
    "# import accuracy_fn from github\n",
    "import requests\n",
    "from pathlib import Path\n",
    "\n",
    "if Path(\"helper_functions.py\").is_file():\n",
    "    print(\"Helper function already exists. Skipping download\")\n",
    "else:\n",
    "    print(\"Downloading Helper functions\")\n",
    "    request = requests.get(\"https://raw.githubusercontent.com/mrdbourke/pytorch-deep-learning/main/helper_functions.py\")\n",
    "    with open(\"helper_functions.py\", \"wb\") as f:\n",
    "        f.write(request.content)"
   ]
  },
  {
   "cell_type": "code",
   "execution_count": 211,
   "id": "4b5d2782-b0dd-4e30-9dfb-4950ab19f74a",
   "metadata": {},
   "outputs": [
    {
     "name": "stdout",
     "output_type": "stream",
     "text": [
      "Model is on cpu\n"
     ]
    }
   ],
   "source": [
    "class FashionMNISTModelV0(nn.Module):\n",
    "    def __init__(self, input_shape, hidden_units, output_shape):\n",
    "        super().__init__()\n",
    "        self.layer_stack = nn.Sequential(\n",
    "            nn.Flatten(),\n",
    "            nn.Linear(input_shape, hidden_units),\n",
    "            nn.Linear(hidden_units, output_shape)   \n",
    "        )\n",
    "    def forward(self, X):\n",
    "        return self.layer_stack(X)\n",
    "\n",
    "model_fm = FashionMNISTModelV0(28*28, 10, len(class_names))\n",
    "# model_fm.to(device)\n",
    "print(f'Model is on {next(model_fm.parameters()).device}')\n",
    "\n",
    "model_sfm = FashionMNISTModelV0(60000*28*28, 10, len(class_names)) # just for learning\n",
    "\n",
    "from helper_functions import accuracy_fn\n",
    "\n",
    "loss_fn = nn.CrossEntropyLoss()\n",
    "optimizer = torch.optim.SGD(params=model_fm.parameters(), lr=0.01)"
   ]
  },
  {
   "cell_type": "code",
   "execution_count": 212,
   "id": "24d068ae-5184-4c87-a39e-c64d3f51260f",
   "metadata": {},
   "outputs": [],
   "source": [
    "def print_train_time(start, end, device):\n",
    "    time = end-start\n",
    "    print(f'Train time on {device} is {time:.3f} seconds')\n",
    "    return time"
   ]
  },
  {
   "cell_type": "code",
   "execution_count": 213,
   "id": "7ffd7391-fc1c-4afb-a305-33d7c25844c3",
   "metadata": {},
   "outputs": [
    {
     "data": {
      "application/vnd.jupyter.widget-view+json": {
       "model_id": "5a0b5a44510340509d669b8746559bac",
       "version_major": 2,
       "version_minor": 0
      },
      "text/plain": [
       "  0%|          | 0/20 [00:00<?, ?it/s]"
      ]
     },
     "metadata": {},
     "output_type": "display_data"
    },
    {
     "name": "stdout",
     "output_type": "stream",
     "text": [
      "Epoch: 0\n",
      "Training Loss: 0.9061403870582581 | Testing Loss: 0.6417797207832336 | Testing Accuracy: 77.63578274760384\n",
      "Epoch: 1\n",
      "Training Loss: 0.566541314125061 | Testing Loss: 0.5474526882171631 | Testing Accuracy: 80.8905750798722\n",
      "Epoch: 2\n",
      "Training Loss: 0.5037644505500793 | Testing Loss: 0.511976420879364 | Testing Accuracy: 82.28833865814697\n",
      "Epoch: 3\n",
      "Training Loss: 0.47433018684387207 | Testing Loss: 0.4916568100452423 | Testing Accuracy: 82.84744408945687\n",
      "Epoch: 4\n",
      "Training Loss: 0.45702773332595825 | Testing Loss: 0.4797753691673279 | Testing Accuracy: 83.23682108626198\n",
      "Epoch: 5\n",
      "Training Loss: 0.44534870982170105 | Testing Loss: 0.4707593321800232 | Testing Accuracy: 83.4464856230032\n",
      "Epoch: 6\n",
      "Training Loss: 0.43704214692115784 | Testing Loss: 0.4635431468486786 | Testing Accuracy: 83.67611821086263\n",
      "Epoch: 7\n",
      "Training Loss: 0.43080654740333557 | Testing Loss: 0.462435245513916 | Testing Accuracy: 83.74600638977635\n",
      "Epoch: 8\n",
      "Training Loss: 0.4257171154022217 | Testing Loss: 0.45843765139579773 | Testing Accuracy: 83.86581469648563\n",
      "Epoch: 9\n",
      "Training Loss: 0.4216100573539734 | Testing Loss: 0.46292200684547424 | Testing Accuracy: 83.89576677316293\n",
      "Epoch: 10\n",
      "Training Loss: 0.4180547595024109 | Testing Loss: 0.45116642117500305 | Testing Accuracy: 84.04552715654953\n",
      "Epoch: 11\n",
      "Training Loss: 0.41507411003112793 | Testing Loss: 0.45517221093177795 | Testing Accuracy: 83.995607028754\n",
      "Epoch: 12\n",
      "Training Loss: 0.41198891401290894 | Testing Loss: 0.4503183662891388 | Testing Accuracy: 84.03554313099042\n",
      "Epoch: 13\n",
      "Training Loss: 0.40900495648384094 | Testing Loss: 0.44805678725242615 | Testing Accuracy: 84.22523961661342\n",
      "Epoch: 14\n",
      "Training Loss: 0.40715262293815613 | Testing Loss: 0.46066996455192566 | Testing Accuracy: 83.54632587859425\n",
      "Epoch: 15\n",
      "Training Loss: 0.4055795669555664 | Testing Loss: 0.45020565390586853 | Testing Accuracy: 83.995607028754\n",
      "Epoch: 16\n",
      "Training Loss: 0.4033237397670746 | Testing Loss: 0.4546004831790924 | Testing Accuracy: 84.08546325878594\n",
      "Epoch: 17\n",
      "Training Loss: 0.4015442430973053 | Testing Loss: 0.4531837999820709 | Testing Accuracy: 84.17531948881789\n",
      "Epoch: 18\n",
      "Training Loss: 0.39999493956565857 | Testing Loss: 0.44316214323043823 | Testing Accuracy: 84.39496805111821\n",
      "Epoch: 19\n",
      "Training Loss: 0.39849749207496643 | Testing Loss: 0.44879627227783203 | Testing Accuracy: 84.16533546325878\n",
      "Train time on cpu is 44.896 seconds\n"
     ]
    }
   ],
   "source": [
    "# batch model train\n",
    "\n",
    "from tqdm.auto import tqdm\n",
    "from timeit import default_timer as timer\n",
    "\n",
    "torch.manual_seed(42)\n",
    "start_timer = timer()\n",
    "\n",
    "epochs = 20\n",
    "for epoch in tqdm(range(epochs)):\n",
    "    train_loss = 0\n",
    "    for batch, (X_train, y_train) in enumerate(train_dataloader):\n",
    "        model_fm.train()\n",
    "        y_train_pred = model_fm(X_train)\n",
    "        curr_train_loss = loss_fn(y_train_pred, y_train)\n",
    "        train_loss += curr_train_loss\n",
    "        optimizer.zero_grad()\n",
    "        curr_train_loss.backward()\n",
    "        optimizer.step()\n",
    "    train_loss /= len(train_dataloader)\n",
    "    print(f'Epoch: {epoch}')\n",
    "\n",
    "    test_loss = 0\n",
    "    test_acc = 0\n",
    "    # test\n",
    "    model_fm.eval()\n",
    "    with torch.inference_mode():\n",
    "        for batch, (X_test, y_test) in enumerate(test_dataloader):\n",
    "            y_test_pred = model_fm(X_test)\n",
    "            curr_test_loss = loss_fn(y_test_pred, y_test)\n",
    "            test_loss += curr_test_loss\n",
    "            curr_test_acc = accuracy_fn(y_true=y_test, y_pred=y_test_pred.argmax(dim=1))\n",
    "            test_acc += curr_test_acc\n",
    "\n",
    "        test_loss /= len(test_dataloader)\n",
    "        test_acc /= len(test_dataloader)\n",
    "    \n",
    "    print(f'Training Loss: {train_loss} | Testing Loss: {test_loss} | Testing Accuracy: {test_acc}')\n",
    "\n",
    "    end_timer = timer()\n",
    "\n",
    "current_time_elasped = print_train_time(start_timer, end_timer, str(next(model_fm.parameters()).device))\n",
    "# print(f'current_time_elasped: {current_time_elasped}')"
   ]
  },
  {
   "cell_type": "code",
   "execution_count": 217,
   "id": "8cab2eca-1719-4cd8-9f1a-a28645aafab4",
   "metadata": {},
   "outputs": [],
   "source": [
    "# # single image train\n",
    "# # to check how much time it takes and how loss and acc effects\n",
    "\n",
    "# epochs = 3\n",
    "# for epoch in range(epochs):\n",
    "#     model_sfm.train()\n",
    "#     y_train_pred = model_sfm(X_train)\n",
    "#     train_loss = loss_fn(y_train_pred, y_train)\n",
    "#     optimizer.zero_grad()\n",
    "#     loss.backward()\n",
    "#     optimizer.step()\n",
    "\n",
    "#     model_fm.eval()\n",
    "#     with torch.inference_mode():\n",
    "#         y_test_pred = model_sfm(X_test)\n",
    "#         test_loss = loss_fn(y_test_pred, y_test)\n",
    "\n",
    "#     print(f'Epoch: {epoch} |Training loss: {train_loss} | Testing Loss: {test_loss}')"
   ]
  },
  {
   "cell_type": "code",
   "execution_count": 273,
   "id": "def5567c-62d3-4a50-8088-22ca56b9f8bd",
   "metadata": {},
   "outputs": [],
   "source": [
    "# write a common code to evaluate our model on test dataset\n",
    "# trained model, test dataset, loss_fn, accuracy_fn\n",
    "\n",
    "def eval_model(model: nn.Module, data_loader: torch.utils.data.DataLoader, loss_fn: nn.Module, accuracy_fn, device):\n",
    "    eval_loss = 0\n",
    "    eval_acc = 0\n",
    "    model.eval()\n",
    "    with torch.no_grad():\n",
    "        for _, (X, y) in enumerate(data_loader):\n",
    "            X, y = X.to(device), y.to(device)\n",
    "            y_pred = model(X)\n",
    "            curr_eval_loss = loss_fn(y_pred, y)\n",
    "            curr_eval_acc = accuracy_fn(y_true=y, y_pred=y_pred.argmax(dim=1))\n",
    "            eval_loss += curr_eval_loss\n",
    "            eval_acc += curr_eval_acc\n",
    "\n",
    "    eval_loss /= len(data_loader)\n",
    "    eval_acc /= len(data_loader)\n",
    "\n",
    "    print(f'Eval loss: {eval_loss} | Eval acc: {eval_acc}')\n",
    "    return {\"Model Name\": model.__class__.__name__,\n",
    "           \"Model Loss\": eval_loss.item(),\n",
    "            \"Model Accuracy\": eval_acc\n",
    "           }\n",
    "            "
   ]
  },
  {
   "cell_type": "code",
   "execution_count": 234,
   "id": "e94e2548-e0e8-4619-9764-b6e309897616",
   "metadata": {},
   "outputs": [
    {
     "name": "stdout",
     "output_type": "stream",
     "text": [
      "Eval loss: 0.44879627227783203 | Eval acc: 84.16533546325878\n"
     ]
    },
    {
     "data": {
      "text/plain": [
       "{'Model Name': 'FashionMNISTModelV0',\n",
       " 'Model Loss': 0.44879627227783203,\n",
       " 'Model Accuracy': 84.16533546325878}"
      ]
     },
     "execution_count": 234,
     "metadata": {},
     "output_type": "execute_result"
    }
   ],
   "source": [
    "model_eval_results = eval_model(model=model_fm, data_loader=test_dataloader, loss_fn=loss_fn, accuracy_fn=accuracy_fn, device=\"cpu\")\n",
    "model_eval_results"
   ]
  },
  {
   "cell_type": "code",
   "execution_count": null,
   "id": "c6641a7e-c142-4b79-b385-800e32a27e46",
   "metadata": {},
   "outputs": [],
   "source": []
  },
  {
   "cell_type": "code",
   "execution_count": 243,
   "id": "a98a75ff-4830-4c77-a94a-a17f46f3f48f",
   "metadata": {},
   "outputs": [
    {
     "name": "stdout",
     "output_type": "stream",
     "text": [
      "Model is on mps:0\n"
     ]
    }
   ],
   "source": [
    "# create a non linear model with relu after linear models\n",
    "# flatten, linear, relu, linear, relu\n",
    "class FashionMNISTModelV1(nn.Module):\n",
    "    def __init__(self, input_layer, hidden_layer, output_layer):\n",
    "        super().__init__()\n",
    "        self.layer_stack = nn.Sequential(\n",
    "            nn.Flatten(),\n",
    "            nn.Linear(in_features=input_layer, out_features=hidden_layer),\n",
    "            nn.ReLU(),\n",
    "            nn.Linear(in_features=hidden_layer, out_features=output_layer),\n",
    "            nn.ReLU()\n",
    "        )\n",
    "    def forward(self, X):\n",
    "        return self.layer_stack(X)\n",
    "\n",
    "# model on mps\n",
    "torch.manual_seed(42)\n",
    "model_v1 = FashionMNISTModelV1(28*28, 50, len(class_names))\n",
    "model_v1.to(device)\n",
    "print(f'Model is on {next(model_v1.parameters()).device}')"
   ]
  },
  {
   "cell_type": "code",
   "execution_count": 246,
   "id": "0ddcad74-c1ba-4c22-ab36-a951979d6933",
   "metadata": {},
   "outputs": [],
   "source": [
    "# accuracy_fn. loss_fn, optimizer\n",
    "from helper_functions import accuracy_fn\n",
    "\n",
    "loss_fn = nn.CrossEntropyLoss()\n",
    "optimizer = torch.optim.SGD(params=model_v1.parameters(), lr=0.01)"
   ]
  },
  {
   "cell_type": "code",
   "execution_count": 270,
   "id": "96df75e9-b7be-4f55-a4eb-96869465c5fa",
   "metadata": {},
   "outputs": [],
   "source": [
    "# functions for train_step\n",
    "\n",
    "\n",
    "def train_step(model: nn.Module, train_dataloader: torch.utils.data.DataLoader, loss_fn: nn.Module, optimizer: torch.optim.Optimizer, accuracy_fn, device: torch.device):\n",
    "    train_loss = 0\n",
    "    train_acc = 0\n",
    "    model.to(device)\n",
    "    for _, (X, y) in enumerate(train_dataloader):\n",
    "        X, y = X.to(device), y.to(device)\n",
    "        model.train()\n",
    "        y_pred = model(X)\n",
    "        loss = loss_fn(y_pred, y)\n",
    "        optimizer.zero_grad()\n",
    "        loss.backward()\n",
    "        optimizer.step()\n",
    "        acc = accuracy_fn(y, y_pred.argmax(dim=1))\n",
    "\n",
    "        train_loss += loss\n",
    "        train_acc += acc\n",
    "        \n",
    "    train_loss /= len(train_dataloader)\n",
    "    train_acc /= len(train_dataloader)\n",
    "    print(f'Training Loss: {train_loss} | Training accuracy: {train_acc}')\n",
    "\n",
    "# functions for test_step\n",
    "def test_step(model: nn.Module, test_dataloader: torch.utils.data.DataLoader, loss_fn: nn.Module, accuracy_fn, device: torch.device):\n",
    "    test_loss = 0\n",
    "    test_acc = 0\n",
    "    model.to(device)\n",
    "    model.eval()\n",
    "    with torch.no_grad():\n",
    "        for _, (X, y) in enumerate(test_dataloader):\n",
    "            X, y = X.to(device), y.to(device)\n",
    "            y_pred = model(X)\n",
    "            loss = loss_fn(y_pred, y)\n",
    "            acc = accuracy_fn(y, y_pred.argmax(dim=1))\n",
    "\n",
    "            test_loss += loss\n",
    "            test_acc += acc\n",
    "        \n",
    "    test_loss /= len(test_dataloader)\n",
    "    test_acc /= len(test_dataloader)\n",
    "    print(f'Test Loss: {test_loss} | Test accuracy: {test_acc}')\n"
   ]
  },
  {
   "cell_type": "code",
   "execution_count": 271,
   "id": "d1725b3b-e69b-4bbc-9ee4-9724ad0a0a2f",
   "metadata": {},
   "outputs": [
    {
     "data": {
      "application/vnd.jupyter.widget-view+json": {
       "model_id": "0253ab0cdb9743089841ee6e595d8adb",
       "version_major": 2,
       "version_minor": 0
      },
      "text/plain": [
       "  0%|          | 0/10 [00:00<?, ?it/s]"
      ]
     },
     "metadata": {},
     "output_type": "display_data"
    },
    {
     "name": "stdout",
     "output_type": "stream",
     "text": [
      "Epoch: 0\n",
      "Training Loss: 0.6098275780677795 | Training accuracy: 77.70333333333333\n",
      "Test Loss: 0.641268253326416 | Test accuracy: 76.53753993610223\n",
      "Epoch: 1\n",
      "Training Loss: 0.6039708256721497 | Training accuracy: 77.885\n",
      "Test Loss: 0.637690007686615 | Test accuracy: 76.65734824281151\n",
      "Epoch: 2\n",
      "Training Loss: 0.5981835722923279 | Training accuracy: 78.015\n",
      "Test Loss: 0.6339333653450012 | Test accuracy: 76.78714057507987\n",
      "Epoch: 3\n",
      "Training Loss: 0.5928217172622681 | Training accuracy: 78.15166666666667\n",
      "Test Loss: 0.631269097328186 | Test accuracy: 76.87699680511182\n",
      "Epoch: 4\n",
      "Training Loss: 0.588236927986145 | Training accuracy: 78.15333333333334\n",
      "Test Loss: 0.627619743347168 | Test accuracy: 76.95686900958466\n",
      "Epoch: 5\n",
      "Training Loss: 0.5837892293930054 | Training accuracy: 78.38833333333334\n",
      "Test Loss: 0.6225468516349792 | Test accuracy: 76.89696485623003\n",
      "Epoch: 6\n",
      "Training Loss: 0.5794981122016907 | Training accuracy: 78.51\n",
      "Test Loss: 0.6205660104751587 | Test accuracy: 77.1964856230032\n",
      "Epoch: 7\n",
      "Training Loss: 0.5760871767997742 | Training accuracy: 78.54333333333334\n",
      "Test Loss: 0.6234151124954224 | Test accuracy: 76.99680511182109\n",
      "Epoch: 8\n",
      "Training Loss: 0.572628378868103 | Training accuracy: 78.70333333333333\n",
      "Test Loss: 0.6193440556526184 | Test accuracy: 77.3861821086262\n",
      "Epoch: 9\n",
      "Training Loss: 0.5699853897094727 | Training accuracy: 78.85833333333333\n",
      "Test Loss: 0.6204344630241394 | Test accuracy: 76.97683706070288\n",
      "Train time on mps is 130.688 seconds\n"
     ]
    },
    {
     "data": {
      "text/plain": [
       "130.68801137499395"
      ]
     },
     "execution_count": 271,
     "metadata": {},
     "output_type": "execute_result"
    }
   ],
   "source": [
    "# epochs and call train_step, test_step\n",
    "torch.manual_seed(42)\n",
    "\n",
    "start_timer = timer()\n",
    "epochs = 10\n",
    "for epoch in tqdm(range(epochs)):\n",
    "    print(f'Epoch: {epoch}')\n",
    "    train_step(model=model_v1, train_dataloader=train_dataloader, loss_fn=loss_fn, optimizer=optimizer, accuracy_fn=accuracy_fn, device=device)\n",
    "    test_step(model=model_v1, test_dataloader=test_dataloader, loss_fn=loss_fn, accuracy_fn=accuracy_fn, device=device)\n",
    "\n",
    "end_timer = timer()\n",
    "print_train_time(start_timer, end_timer, str(device))"
   ]
  },
  {
   "cell_type": "code",
   "execution_count": 274,
   "id": "9fa65eda-d398-4f4b-bd83-f6db53c936e9",
   "metadata": {},
   "outputs": [
    {
     "name": "stdout",
     "output_type": "stream",
     "text": [
      "Eval loss: 0.6204344630241394 | Eval acc: 76.97683706070288\n"
     ]
    },
    {
     "data": {
      "text/plain": [
       "{'Model Name': 'FashionMNISTModelV1',\n",
       " 'Model Loss': 0.6204344630241394,\n",
       " 'Model Accuracy': 76.97683706070288}"
      ]
     },
     "execution_count": 274,
     "metadata": {},
     "output_type": "execute_result"
    }
   ],
   "source": [
    "model_v1_results = eval_model(model=model_v1, data_loader=test_dataloader, loss_fn=loss_fn, accuracy_fn=accuracy_fn, device=device)\n",
    "model_v1_results"
   ]
  },
  {
   "cell_type": "code",
   "execution_count": 278,
   "id": "cd24bd86-ff4a-4eb8-bc49-d4fdd6797294",
   "metadata": {},
   "outputs": [
    {
     "data": {
      "text/plain": [
       "FashionMNISTModelV2(\n",
       "  (layer_1): Sequential(\n",
       "    (0): Conv2d(6084, 10, kernel_size=(3, 3), stride=(1, 1), padding=(1, 1))\n",
       "    (1): ReLU()\n",
       "    (2): Conv2d(10, 10, kernel_size=(3, 3), stride=(1, 1), padding=(1, 1))\n",
       "    (3): ReLU()\n",
       "    (4): MaxPool2d(kernel_size=2, stride=2, padding=0, dilation=1, ceil_mode=False)\n",
       "  )\n",
       "  (layer_2): Sequential(\n",
       "    (0): Conv2d(10, 10, kernel_size=(3, 3), stride=(1, 1))\n",
       "    (1): ReLU()\n",
       "    (2): Conv2d(10, 10, kernel_size=(3, 3), stride=(1, 1))\n",
       "    (3): ReLU()\n",
       "    (4): MaxPool2d(kernel_size=2, stride=2, padding=0, dilation=1, ceil_mode=False)\n",
       "  )\n",
       "  (classifier): Sequential(\n",
       "    (0): Flatten(start_dim=1, end_dim=-1)\n",
       "    (1): Linear(in_features=490, out_features=10, bias=True)\n",
       "    (2): Linear(in_features=10, out_features=10, bias=True)\n",
       "  )\n",
       ")"
      ]
     },
     "execution_count": 278,
     "metadata": {},
     "output_type": "execute_result"
    }
   ],
   "source": [
    "# convolution neural networks\n",
    "class FashionMNISTModelV2(nn.Module):\n",
    "    def __init__(self, input_shape, hidden_shape, output_shape):\n",
    "        super().__init__()\n",
    "        # layer_1 -> conv2d, ReLU, conv2d, ReLU, MaxPool2d\n",
    "        self.layer_1 = nn.Sequential(\n",
    "            nn.Conv2d(in_channels=input_shape, out_channels=hidden_shape, kernel_size=3, stride=1, padding=1),\n",
    "            nn.ReLU(),\n",
    "            nn.Conv2d(in_channels=hidden_shape, out_channels=hidden_shape, kernel_size=3, stride=1, padding=1),\n",
    "            nn.ReLU(),\n",
    "            nn.MaxPool2d(kernel_size=2, stride=2)\n",
    "        )\n",
    "        # layer_2 -> conv2d, ReLU, conv2d, ReLU, MaxPool2d\n",
    "        self.layer_2 = nn.Sequential(\n",
    "            nn.Conv2d(hidden_shape, hidden_shape, 3, 1),\n",
    "            nn.ReLU(),\n",
    "            nn.Conv2d(hidden_shape, hidden_shape, 3, 1),\n",
    "            nn.ReLU(),\n",
    "            nn.MaxPool2d(2)\n",
    "        )\n",
    "        # classifier -> flatten, linear, linear(10)\n",
    "        self.classifier = nn.Sequential(\n",
    "            nn.Flatten(),\n",
    "            nn.Linear(in_features=hidden_shape*7*7, out_features=hidden_shape),\n",
    "            nn.Linear(in_features=hidden_shape, out_features=output_shape)\n",
    "        )\n",
    "    def forward(self, X):\n",
    "        X = self.layer_1(X)\n",
    "        X = self.layer_2(X)\n",
    "        X = self.classifier(X)\n",
    "        return X\n",
    "\n",
    "model_v2 = FashionMNISTModelV2(78*78, 10, len(class_names))\n",
    "model_v2"
   ]
  },
  {
   "cell_type": "code",
   "execution_count": null,
   "id": "042f9cfb-f203-4419-aec5-ead78b609e31",
   "metadata": {},
   "outputs": [],
   "source": []
  }
 ],
 "metadata": {
  "kernelspec": {
   "display_name": "Python 3 (ipykernel)",
   "language": "python",
   "name": "python3"
  },
  "language_info": {
   "codemirror_mode": {
    "name": "ipython",
    "version": 3
   },
   "file_extension": ".py",
   "mimetype": "text/x-python",
   "name": "python",
   "nbconvert_exporter": "python",
   "pygments_lexer": "ipython3",
   "version": "3.9.5"
  }
 },
 "nbformat": 4,
 "nbformat_minor": 5
}
