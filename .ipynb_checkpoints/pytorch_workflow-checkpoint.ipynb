{
 "cells": [
  {
   "cell_type": "code",
   "execution_count": 306,
   "id": "c1f295ab-b941-4b5a-80a2-8aff88cfc14a",
   "metadata": {},
   "outputs": [
    {
     "data": {
      "text/plain": [
       "'2.5.1'"
      ]
     },
     "execution_count": 306,
     "metadata": {},
     "output_type": "execute_result"
    }
   ],
   "source": [
    "import torch\n",
    "from torch import nn\n",
    "import matplotlib.pyplot as plt\n",
    "\n",
    "torch.__version__"
   ]
  },
  {
   "cell_type": "code",
   "execution_count": 307,
   "id": "ab48afe9-9d29-480e-a819-2923997583b6",
   "metadata": {},
   "outputs": [
    {
     "data": {
      "text/plain": [
       "(tensor([[0.0000],\n",
       "         [0.0200],\n",
       "         [0.0400],\n",
       "         [0.0600],\n",
       "         [0.0800],\n",
       "         [0.1000],\n",
       "         [0.1200],\n",
       "         [0.1400],\n",
       "         [0.1600],\n",
       "         [0.1800]]),\n",
       " tensor([[0.3000],\n",
       "         [0.3140],\n",
       "         [0.3280],\n",
       "         [0.3420],\n",
       "         [0.3560],\n",
       "         [0.3700],\n",
       "         [0.3840],\n",
       "         [0.3980],\n",
       "         [0.4120],\n",
       "         [0.4260]]))"
      ]
     },
     "execution_count": 307,
     "metadata": {},
     "output_type": "execute_result"
    }
   ],
   "source": [
    "weight = 0.7\n",
    "bias = 0.3\n",
    "\n",
    "start = 0\n",
    "end = 1\n",
    "step = 0.02\n",
    "\n",
    "X = torch.arange(start, end, step).unsqueeze(dim=1)\n",
    "y = weight * X + bias\n",
    "\n",
    "X[:10], y[:10]"
   ]
  },
  {
   "cell_type": "code",
   "execution_count": 308,
   "id": "8eaf67ef-9963-44a7-b35d-e6b33370add3",
   "metadata": {},
   "outputs": [
    {
     "data": {
      "text/plain": [
       "(40, 40, 10, 10)"
      ]
     },
     "execution_count": 308,
     "metadata": {},
     "output_type": "execute_result"
    }
   ],
   "source": [
    "# 80% train, 20% test\n",
    "train_test_split = int(0.8 * len(X))\n",
    "X_train, y_train = X[:train_test_split], y[:train_test_split]\n",
    "X_test, y_test = X[train_test_split:], y[train_test_split:]\n",
    "\n",
    "len(X_train), len(y_train), len(X_test), len(y_test)"
   ]
  },
  {
   "cell_type": "code",
   "execution_count": 309,
   "id": "27a38270-741d-408a-8865-a9f59adca087",
   "metadata": {},
   "outputs": [],
   "source": [
    "# plot\n",
    "def plot_predictions(training_data=X_train, \n",
    "                     training_label=y_train, \n",
    "                     testing_data=X_test, \n",
    "                     testing_label=y_test, \n",
    "                     predictions=None):\n",
    "    plt.scatter(training_data, training_label, c=\"b\", s=4, label=\"Training Data\")\n",
    "    plt.scatter(testing_data, testing_label, c=\"g\", s=4, label=\"Testing Data\")\n",
    "    if predictions is not None:\n",
    "        plt.scatter(testing_data, predictions, c=\"g\", s=4, label=\"Testing Data\")"
   ]
  },
  {
   "cell_type": "code",
   "execution_count": 310,
   "id": "5199efa1-73d1-4751-ad4a-405f92732c57",
   "metadata": {},
   "outputs": [
    {
     "data": {
      "image/png": "[encoded data removed]",
      "text/plain": [
       "<Figure size 640x480 with 1 Axes>"
      ]
     },
     "metadata": {},
     "output_type": "display_data"
    }
   ],
   "source": [
    "plot_predictions()"
   ]
  },
  {
   "cell_type": "code",
   "execution_count": 311,
   "id": "02d7736a-6f31-4adc-8154-32e8df11d23e",
   "metadata": {},
   "outputs": [],
   "source": [
    "class LinearRegressionModel(nn.Module):\n",
    "    def __init__(self):\n",
    "        super().__init__()\n",
    "        self.weights = nn.Parameter(torch.rand(1, dtype=torch.float), requires_grad=True)\n",
    "        self.bias = nn.Parameter(torch.rand(1, dtype=torch.float), requires_grad=True)\n",
    "    def forward(self, X):\n",
    "        return self.weights * X + self.bias"
   ]
  },
  {
   "cell_type": "code",
   "execution_count": 312,
   "id": "f004852b-0bc8-41f3-b75b-5aee7caff030",
   "metadata": {},
   "outputs": [
    {
     "data": {
      "text/plain": [
       "<generator object Module.parameters at 0x11fb33f90>"
      ]
     },
     "execution_count": 312,
     "metadata": {},
     "output_type": "execute_result"
    }
   ],
   "source": [
    "torch.manual_seed(42)\n",
    "\n",
    "model = LinearRegressionModel()\n",
    "model.parameters()"
   ]
  },
  {
   "cell_type": "code",
   "execution_count": 313,
   "id": "8d1f4535-5b2c-4417-9a08-652ba0bb0813",
   "metadata": {},
   "outputs": [
    {
     "data": {
      "text/plain": [
       "[Parameter containing:\n",
       " tensor([0.8823], requires_grad=True),\n",
       " Parameter containing:\n",
       " tensor([0.9150], requires_grad=True)]"
      ]
     },
     "execution_count": 313,
     "metadata": {},
     "output_type": "execute_result"
    }
   ],
   "source": [
    "list(model.parameters())"
   ]
  },
  {
   "cell_type": "code",
   "execution_count": 314,
   "id": "74483e6c-45b3-4b50-bf68-062a56f8fe56",
   "metadata": {},
   "outputs": [
    {
     "data": {
      "text/plain": [
       "OrderedDict([('weights', tensor([0.8823])), ('bias', tensor([0.9150]))])"
      ]
     },
     "execution_count": 314,
     "metadata": {},
     "output_type": "execute_result"
    }
   ],
   "source": [
    "model.state_dict()"
   ]
  },
  {
   "cell_type": "code",
   "execution_count": 315,
   "id": "6e8930c3-b809-4228-aa48-69df086bd782",
   "metadata": {},
   "outputs": [
    {
     "data": {
      "text/plain": [
       "tensor([[1.6208],\n",
       "        [1.6385],\n",
       "        [1.6561],\n",
       "        [1.6738],\n",
       "        [1.6914],\n",
       "        [1.7090],\n",
       "        [1.7267],\n",
       "        [1.7443],\n",
       "        [1.7620],\n",
       "        [1.7796]])"
      ]
     },
     "execution_count": 315,
     "metadata": {},
     "output_type": "execute_result"
    }
   ],
   "source": [
    "with torch.inference_mode():\n",
    "    y_preds = model(X_test)\n",
    "y_preds"
   ]
  },
  {
   "cell_type": "code",
   "execution_count": 316,
   "id": "4be7d14d-f73b-4659-b217-2515fa97cdfe",
   "metadata": {},
   "outputs": [
    {
     "data": {
      "image/png": "[encoded data removed]",
      "text/plain": [
       "<Figure size 640x480 with 1 Axes>"
      ]
     },
     "metadata": {},
     "output_type": "display_data"
    }
   ],
   "source": [
    "plot_predictions(predictions=y_preds)"
   ]
  },
  {
   "cell_type": "code",
   "execution_count": 317,
   "id": "2ab0b331-70ee-4d74-91e4-5f330a033ee1",
   "metadata": {},
   "outputs": [
    {
     "data": {
      "text/plain": [
       "(L1Loss(),\n",
       " SGD (\n",
       " Parameter Group 0\n",
       "     dampening: 0\n",
       "     differentiable: False\n",
       "     foreach: None\n",
       "     fused: None\n",
       "     lr: 0.01\n",
       "     maximize: False\n",
       "     momentum: 0\n",
       "     nesterov: False\n",
       "     weight_decay: 0\n",
       " ))"
      ]
     },
     "execution_count": 317,
     "metadata": {},
     "output_type": "execute_result"
    }
   ],
   "source": [
    "loss_fn = nn.L1Loss()\n",
    "\n",
    "optimizer = torch.optim.SGD(params=model.parameters(), lr=0.01)\n",
    "\n",
    "loss_fn, optimizer"
   ]
  },
  {
   "cell_type": "code",
   "execution_count": 318,
   "id": "002fc030-8776-45e9-84f0-36018dcf6c32",
   "metadata": {},
   "outputs": [
    {
     "name": "stdout",
     "output_type": "stream",
     "text": [
      "Epoch: 0 | MAE Train Loss: 0.6860889196395874 | MAE Test Loss: 0.7637526988983154 \n",
      "Epoch: 1 | MAE Train Loss: 0.6745679378509521 | MAE Test Loss: 0.7502816915512085 \n",
      "Epoch: 2 | MAE Train Loss: 0.6630470156669617 | MAE Test Loss: 0.7368106245994568 \n",
      "Epoch: 3 | MAE Train Loss: 0.6515260338783264 | MAE Test Loss: 0.7233396768569946 \n",
      "Epoch: 4 | MAE Train Loss: 0.6400049924850464 | MAE Test Loss: 0.7098686695098877 \n",
      "Epoch: 5 | MAE Train Loss: 0.6284840703010559 | MAE Test Loss: 0.6963977217674255 \n",
      "Epoch: 6 | MAE Train Loss: 0.6169630289077759 | MAE Test Loss: 0.6829267144203186 \n",
      "Epoch: 7 | MAE Train Loss: 0.6054420471191406 | MAE Test Loss: 0.6694557666778564 \n",
      "Epoch: 8 | MAE Train Loss: 0.5939210653305054 | MAE Test Loss: 0.6559847593307495 \n",
      "Epoch: 9 | MAE Train Loss: 0.5824000239372253 | MAE Test Loss: 0.6425138115882874 \n",
      "Epoch: 10 | MAE Train Loss: 0.5708791017532349 | MAE Test Loss: 0.6290428042411804 \n",
      "Epoch: 11 | MAE Train Loss: 0.5593580603599548 | MAE Test Loss: 0.6155718564987183 \n",
      "Epoch: 12 | MAE Train Loss: 0.5478371381759644 | MAE Test Loss: 0.6021007895469666 \n",
      "Epoch: 13 | MAE Train Loss: 0.5363161563873291 | MAE Test Loss: 0.5886298418045044 \n",
      "Epoch: 14 | MAE Train Loss: 0.5247951149940491 | MAE Test Loss: 0.5751588940620422 \n",
      "Epoch: 15 | MAE Train Loss: 0.5132741332054138 | MAE Test Loss: 0.5616878271102905 \n",
      "Epoch: 16 | MAE Train Loss: 0.5017532110214233 | MAE Test Loss: 0.5482169389724731 \n",
      "Epoch: 17 | MAE Train Loss: 0.4902321696281433 | MAE Test Loss: 0.5347458720207214 \n",
      "Epoch: 18 | MAE Train Loss: 0.47871121764183044 | MAE Test Loss: 0.5212749242782593 \n",
      "Epoch: 19 | MAE Train Loss: 0.4671902060508728 | MAE Test Loss: 0.5078039169311523 \n",
      "Epoch: 20 | MAE Train Loss: 0.45566922426223755 | MAE Test Loss: 0.4943329691886902 \n",
      "Epoch: 21 | MAE Train Loss: 0.4441482126712799 | MAE Test Loss: 0.48086196184158325 \n",
      "Epoch: 22 | MAE Train Loss: 0.43262726068496704 | MAE Test Loss: 0.4673910140991211 \n",
      "Epoch: 23 | MAE Train Loss: 0.4211062490940094 | MAE Test Loss: 0.45392003655433655 \n",
      "Epoch: 24 | MAE Train Loss: 0.40958523750305176 | MAE Test Loss: 0.4404489994049072 \n",
      "Epoch: 25 | MAE Train Loss: 0.3980643153190613 | MAE Test Loss: 0.42697805166244507 \n",
      "Epoch: 26 | MAE Train Loss: 0.38654330372810364 | MAE Test Loss: 0.41350704431533813 \n",
      "Epoch: 27 | MAE Train Loss: 0.375022292137146 | MAE Test Loss: 0.4000360369682312 \n",
      "Epoch: 28 | MAE Train Loss: 0.36350134015083313 | MAE Test Loss: 0.38656511902809143 \n",
      "Epoch: 29 | MAE Train Loss: 0.3519803285598755 | MAE Test Loss: 0.3730941116809845 \n",
      "Epoch: 30 | MAE Train Loss: 0.340459406375885 | MAE Test Loss: 0.35962313413619995 \n",
      "Epoch: 31 | MAE Train Loss: 0.328938364982605 | MAE Test Loss: 0.346152126789093 \n",
      "Epoch: 32 | MAE Train Loss: 0.31741735339164734 | MAE Test Loss: 0.33268117904663086 \n",
      "Epoch: 33 | MAE Train Loss: 0.3058963716030121 | MAE Test Loss: 0.3192101716995239 \n",
      "Epoch: 34 | MAE Train Loss: 0.2943754196166992 | MAE Test Loss: 0.3057391941547394 \n",
      "Epoch: 35 | MAE Train Loss: 0.2828544080257416 | MAE Test Loss: 0.29226821660995483 \n",
      "Epoch: 36 | MAE Train Loss: 0.2713334262371063 | MAE Test Loss: 0.2787972390651703 \n",
      "Epoch: 37 | MAE Train Loss: 0.25981244444847107 | MAE Test Loss: 0.26532623171806335 \n",
      "Epoch: 38 | MAE Train Loss: 0.24829146265983582 | MAE Test Loss: 0.2518552839756012 \n",
      "Epoch: 39 | MAE Train Loss: 0.23677048087120056 | MAE Test Loss: 0.23838429152965546 \n",
      "Epoch: 40 | MAE Train Loss: 0.22524945437908173 | MAE Test Loss: 0.2249133139848709 \n",
      "Epoch: 41 | MAE Train Loss: 0.21372847259044647 | MAE Test Loss: 0.21144230663776398 \n",
      "Epoch: 42 | MAE Train Loss: 0.20220749080181122 | MAE Test Loss: 0.19797134399414062 \n",
      "Epoch: 43 | MAE Train Loss: 0.19068653881549835 | MAE Test Loss: 0.1845003366470337 \n",
      "Epoch: 44 | MAE Train Loss: 0.1791655272245407 | MAE Test Loss: 0.17102937400341034 \n",
      "Epoch: 45 | MAE Train Loss: 0.16764454543590546 | MAE Test Loss: 0.157558411359787 \n",
      "Epoch: 46 | MAE Train Loss: 0.156123548746109 | MAE Test Loss: 0.14408738911151886 \n",
      "Epoch: 47 | MAE Train Loss: 0.14460256695747375 | MAE Test Loss: 0.13061639666557312 \n",
      "Epoch: 48 | MAE Train Loss: 0.1330815702676773 | MAE Test Loss: 0.11714544147253036 \n",
      "Epoch: 49 | MAE Train Loss: 0.12156059592962265 | MAE Test Loss: 0.10367444902658463 \n",
      "Epoch: 50 | MAE Train Loss: 0.1100396141409874 | MAE Test Loss: 0.09020347893238068 \n",
      "Epoch: 51 | MAE Train Loss: 0.09851861745119095 | MAE Test Loss: 0.07673247158527374 \n",
      "Epoch: 52 | MAE Train Loss: 0.0869976356625557 | MAE Test Loss: 0.06326152384281158 \n",
      "Epoch: 53 | MAE Train Loss: 0.07547665387392044 | MAE Test Loss: 0.04979051277041435 \n",
      "Epoch: 54 | MAE Train Loss: 0.06395565718412399 | MAE Test Loss: 0.0363195538520813 \n",
      "Epoch: 55 | MAE Train Loss: 0.05243467167019844 | MAE Test Loss: 0.02284855768084526 \n",
      "Epoch: 56 | MAE Train Loss: 0.04091368243098259 | MAE Test Loss: 0.009377574548125267 \n",
      "Epoch: 57 | MAE Train Loss: 0.029392695054411888 | MAE Test Loss: 0.0040934025309979916 \n",
      "Epoch: 58 | MAE Train Loss: 0.017871711403131485 | MAE Test Loss: 0.017564397305250168 \n",
      "Epoch: 59 | MAE Train Loss: 0.010616960003972054 | MAE Test Loss: 0.020717304199934006 \n",
      "Epoch: 60 | MAE Train Loss: 0.009724984876811504 | MAE Test Loss: 0.020998019725084305 \n",
      "Epoch: 61 | MAE Train Loss: 0.00932561606168747 | MAE Test Loss: 0.0205828957259655 \n",
      "Epoch: 62 | MAE Train Loss: 0.00897279940545559 | MAE Test Loss: 0.02016776241362095 \n",
      "Epoch: 63 | MAE Train Loss: 0.008620462380349636 | MAE Test Loss: 0.01906575635075569 \n",
      "Epoch: 64 | MAE Train Loss: 0.008283795788884163 | MAE Test Loss: 0.018650632351636887 \n",
      "Epoch: 65 | MAE Train Loss: 0.00793526228517294 | MAE Test Loss: 0.01754862628877163 \n",
      "Epoch: 66 | MAE Train Loss: 0.007594785653054714 | MAE Test Loss: 0.017133492976427078 \n",
      "Epoch: 67 | MAE Train Loss: 0.007250060793012381 | MAE Test Loss: 0.01603149250149727 \n",
      "Epoch: 68 | MAE Train Loss: 0.006905776914209127 | MAE Test Loss: 0.015616369433701038 \n",
      "Epoch: 69 | MAE Train Loss: 0.006564866751432419 | MAE Test Loss: 0.014514368958771229 \n",
      "Epoch: 70 | MAE Train Loss: 0.006216756068170071 | MAE Test Loss: 0.014099234715104103 \n",
      "Epoch: 71 | MAE Train Loss: 0.005879656411707401 | MAE Test Loss: 0.012997227720916271 \n",
      "Epoch: 72 | MAE Train Loss: 0.005530657712370157 | MAE Test Loss: 0.011895209550857544 \n",
      "Epoch: 73 | MAE Train Loss: 0.005191553384065628 | MAE Test Loss: 0.011480098590254784 \n",
      "Epoch: 74 | MAE Train Loss: 0.0048454562202095985 | MAE Test Loss: 0.010378086939454079 \n",
      "Epoch: 75 | MAE Train Loss: 0.004502546042203903 | MAE Test Loss: 0.009962963871657848 \n",
      "Epoch: 76 | MAE Train Loss: 0.004160257522016764 | MAE Test Loss: 0.008860963396728039 \n",
      "Epoch: 77 | MAE Train Loss: 0.003813534276559949 | MAE Test Loss: 0.008445841260254383 \n",
      "Epoch: 78 | MAE Train Loss: 0.003475043922662735 | MAE Test Loss: 0.0073438226245343685 \n",
      "Epoch: 79 | MAE Train Loss: 0.003126060124486685 | MAE Test Loss: 0.006241828203201294 \n",
      "Epoch: 80 | MAE Train Loss: 0.002788323210552335 | MAE Test Loss: 0.005826681852340698 \n",
      "Epoch: 81 | MAE Train Loss: 0.0024408497847616673 | MAE Test Loss: 0.004724687431007624 \n",
      "Epoch: 82 | MAE Train Loss: 0.002099317265674472 | MAE Test Loss: 0.004309558775275946 \n",
      "Epoch: 83 | MAE Train Loss: 0.0017560176784172654 | MAE Test Loss: 0.0025295913219451904 \n",
      "Epoch: 84 | MAE Train Loss: 0.0014921159017831087 | MAE Test Loss: 0.00495107751339674 \n",
      "Epoch: 85 | MAE Train Loss: 0.0019509077537804842 | MAE Test Loss: 0.005930870771408081 \n",
      "Epoch: 86 | MAE Train Loss: 0.007095950189977884 | MAE Test Loss: 0.00754010071977973 \n",
      "Epoch: 87 | MAE Train Loss: 0.004425034858286381 | MAE Test Loss: 0.005930870771408081 \n",
      "Epoch: 88 | MAE Train Loss: 0.007095950189977884 | MAE Test Loss: 0.00754010071977973 \n",
      "Epoch: 89 | MAE Train Loss: 0.004425034858286381 | MAE Test Loss: 0.005930870771408081 \n",
      "Epoch: 90 | MAE Train Loss: 0.007095950189977884 | MAE Test Loss: 0.00754010071977973 \n",
      "Epoch: 91 | MAE Train Loss: 0.004425034858286381 | MAE Test Loss: 0.005930870771408081 \n",
      "Epoch: 92 | MAE Train Loss: 0.007095950189977884 | MAE Test Loss: 0.00754010071977973 \n",
      "Epoch: 93 | MAE Train Loss: 0.004425034858286381 | MAE Test Loss: 0.005930870771408081 \n",
      "Epoch: 94 | MAE Train Loss: 0.007095950189977884 | MAE Test Loss: 0.00754010071977973 \n",
      "Epoch: 95 | MAE Train Loss: 0.004425034858286381 | MAE Test Loss: 0.005930870771408081 \n",
      "Epoch: 96 | MAE Train Loss: 0.007095950189977884 | MAE Test Loss: 0.00754010071977973 \n",
      "Epoch: 97 | MAE Train Loss: 0.004425034858286381 | MAE Test Loss: 0.005930870771408081 \n",
      "Epoch: 98 | MAE Train Loss: 0.007095950189977884 | MAE Test Loss: 0.00754010071977973 \n",
      "Epoch: 99 | MAE Train Loss: 0.004425034858286381 | MAE Test Loss: 0.005930870771408081 \n"
     ]
    }
   ],
   "source": [
    "# 1. model create\n",
    "# 2. do forward pass\n",
    "# 3. calculate loss\n",
    "# 4. optimizer zero_grad (zero gradients)\n",
    "# 5. backward pass ()\n",
    "# 6. optimizer step step step (gradient desent)\n",
    "\n",
    "# 7. put model in eval mode\n",
    "# 8. use torch.inference_mode and predict in test data\n",
    "# 9. calculate loss for overfitting\n",
    "\n",
    "training_loss_values = []\n",
    "testing_loss_values = []\n",
    "epoch_count = []\n",
    "epochs = 100\n",
    "\n",
    "for epoch in range(epochs):\n",
    "    #train\n",
    "    model.train()\n",
    "    y_pred_train = model(X_train)\n",
    "    loss_train = loss_fn(y_pred_train, y_train)\n",
    "    optimizer.zero_grad()\n",
    "    loss_train.backward()\n",
    "    optimizer.step()\n",
    "    \n",
    "    # test\n",
    "    model.eval()\n",
    "    with torch.inference_mode():\n",
    "        y_pred_test = model(X_test)\n",
    "    test_loss = loss_fn(y_pred_test, y_test)\n",
    "\n",
    "\n",
    "    epoch_count.append(epoch)\n",
    "    training_loss_values.append(loss_train.detach().numpy())\n",
    "    testing_loss_values.append(test_loss.detach().numpy())\n",
    "    print(f\"Epoch: {epoch} | MAE Train Loss: {loss_train} | MAE Test Loss: {test_loss} \")"
   ]
  },
  {
   "cell_type": "code",
   "execution_count": 319,
   "id": "c8de80f5-3741-4104-a23a-f852b3739679",
   "metadata": {},
   "outputs": [
    {
     "data": {
      "text/plain": [
       "(100, 100)"
      ]
     },
     "execution_count": 319,
     "metadata": {},
     "output_type": "execute_result"
    }
   ],
   "source": [
    "len(training_loss_values), len(testing_loss_values)"
   ]
  },
  {
   "cell_type": "code",
   "execution_count": 320,
   "id": "232e8cdd-c188-4be5-a5e3-3397ce5ea1e2",
   "metadata": {},
   "outputs": [
    {
     "data": {
      "text/plain": [
       "<matplotlib.legend.Legend at 0x11f789f40>"
      ]
     },
     "execution_count": 320,
     "metadata": {},
     "output_type": "execute_result"
    },
    {
     "data": {
      "image/png": "[encoded data removed]",
      "text/plain": [
       "<Figure size 640x480 with 1 Axes>"
      ]
     },
     "metadata": {},
     "output_type": "display_data"
    }
   ],
   "source": [
    "\n",
    "plt.plot(epoch_count, training_loss_values, label=\"Training loss\")\n",
    "plt.plot(epoch_count, testing_loss_values, label=\"Testing loss\")\n",
    "plt.legend()\n"
   ]
  },
  {
   "cell_type": "code",
   "execution_count": 321,
   "id": "43407c0c-3394-4bf8-a6d4-143a9a29f6aa",
   "metadata": {},
   "outputs": [
    {
     "data": {
      "image/png": "[encoded data removed]",
      "text/plain": [
       "<Figure size 640x480 with 1 Axes>"
      ]
     },
     "metadata": {},
     "output_type": "display_data"
    }
   ],
   "source": [
    "with torch.inference_mode():\n",
    "    y_preds = model(X_test)\n",
    "plot_predictions(predictions=y_preds)"
   ]
  },
  {
   "cell_type": "code",
   "execution_count": 322,
   "id": "0116194a-cd71-4490-b254-e02cca9dcd20",
   "metadata": {},
   "outputs": [
    {
     "data": {
      "text/plain": [
       "[Parameter containing:\n",
       " tensor([0.6977], requires_grad=True),\n",
       " Parameter containing:\n",
       " tensor([0.3080], requires_grad=True)]"
      ]
     },
     "execution_count": 322,
     "metadata": {},
     "output_type": "execute_result"
    }
   ],
   "source": [
    "list(model.parameters())"
   ]
  },
  {
   "cell_type": "code",
   "execution_count": 323,
   "id": "fad0f5ce-9ad3-4dea-ba46-4e689ecf0d41",
   "metadata": {},
   "outputs": [
    {
     "data": {
      "text/plain": [
       "OrderedDict([('weights', tensor([0.6977])), ('bias', tensor([0.3080]))])"
      ]
     },
     "execution_count": 323,
     "metadata": {},
     "output_type": "execute_result"
    }
   ],
   "source": [
    "model.state_dict()"
   ]
  },
  {
   "cell_type": "code",
   "execution_count": null,
   "id": "32137a95-a34b-415e-94fa-1332606118b8",
   "metadata": {},
   "outputs": [],
   "source": []
  }
 ],
 "metadata": {
  "kernelspec": {
   "display_name": "Python 3 (ipykernel)",
   "language": "python",
   "name": "python3"
  },
  "language_info": {
   "codemirror_mode": {
    "name": "ipython",
    "version": 3
   },
   "file_extension": ".py",
   "mimetype": "text/x-python",
   "name": "python",
   "nbconvert_exporter": "python",
   "pygments_lexer": "ipython3",
   "version": "3.9.5"
  }
 },
 "nbformat": 4,
 "nbformat_minor": 5
}
