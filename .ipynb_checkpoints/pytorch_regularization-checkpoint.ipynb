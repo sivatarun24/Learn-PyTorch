{
 "cells": [
  {
   "cell_type": "code",
   "execution_count": 1,
   "id": "d6d0417e-5577-481a-938c-ca3ee3280447",
   "metadata": {},
   "outputs": [],
   "source": [
    "# implement regularization using pytorch here"
   ]
  },
  {
   "cell_type": "code",
   "execution_count": null,
   "id": "0eb740e3-b174-43ff-8009-4e85f7b23698",
   "metadata": {},
   "outputs": [],
   "source": []
  }
 ],
 "metadata": {
  "kernelspec": {
   "display_name": "Python 3 (ipykernel)",
   "language": "python",
   "name": "python3"
  },
  "language_info": {
   "codemirror_mode": {
    "name": "ipython",
    "version": 3
   },
   "file_extension": ".py",
   "mimetype": "text/x-python",
   "name": "python",
   "nbconvert_exporter": "python",
   "pygments_lexer": "ipython3",
   "version": "3.9.5"
  }
 },
 "nbformat": 4,
 "nbformat_minor": 5
}
